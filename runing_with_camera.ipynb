{
 "cells": [
  {
   "cell_type": "code",
   "execution_count": 5,
   "id": "703fefb0",
   "metadata": {},
   "outputs": [],
   "source": [
    "import numpy as np\n",
    "import cv2\n",
    "import os\n",
    "\n",
    "import torch\n",
    "import torchvision\n",
    "from torchvision import transforms\n",
    "\n",
    "from PIL import Image"
   ]
  },
  {
   "cell_type": "code",
   "execution_count": 6,
   "id": "2700dd41",
   "metadata": {},
   "outputs": [],
   "source": [
    "import os\n",
    "#directories\n",
    "#base_dir = os.path.dirname(__file__)\n",
    "#face detction model:::::::::::::::::::::::::::::::::::::::::::::\n",
    "prototxt_path = os.path.join( r'deploy.prototxt')\n",
    "faceDetect_path = os.path.join(r'faceDetect.caffemodel')\n",
    "#mask detection model:::::::::::::::::::::::::::::::::::::::::::::\n",
    "maskDetect_path = os.path.join('model_mobilenet.pth')"
   ]
  },
  {
   "cell_type": "code",
   "execution_count": 7,
   "id": "278851a7",
   "metadata": {},
   "outputs": [
    {
     "name": "stdout",
     "output_type": "stream",
     "text": [
      "loading models\n"
     ]
    }
   ],
   "source": [
    "#loading face detection model and mask detection model\n",
    "print(\"loading models\")\n",
    "maskDetectModel = torch.load(maskDetect_path)\n",
    "maskDetectModel.eval()\n",
    "faceDetectModel = cv2.dnn.readNetFromCaffe(prototxt_path, faceDetect_path)\n",
    "device = torch.device(\"cpu\")\n",
    "maskDetectModel=maskDetectModel.to(device)"
   ]
  },
  {
   "cell_type": "code",
   "execution_count": 8,
   "id": "661390a8",
   "metadata": {
    "scrolled": false
   },
   "outputs": [],
   "source": [
    "\n",
    "#function to detect face\n",
    "def detect_face(image):\n",
    "    (h, w) = image.shape[:2]\n",
    "    blob = cv2.dnn.blobFromImage(cv2.resize(image, (300, 300)), 1.0, (300, 300), (104.0, 177.0, 123.0))\n",
    "    faceDetectModel.setInput(blob)\n",
    "    detections = faceDetectModel.forward()\n",
    "    faces=[]\n",
    "    positions=[]\n",
    "    for i in range(0, detections.shape[2]):\n",
    "        box = detections[0, 0, i, 3:7] * np.array([w, h, w, h])\n",
    "        (startX, startY, endX, endY) = box.astype(\"int\")\n",
    "        (startX,startY)=(max(0,startX-15),max(0,startY-15))\n",
    "        (endX,endY)=(min(w-1,endX+15),min(h-1,endY+15))\n",
    "        confidence = detections[0, 0, i, 2]\n",
    "        # If confidence > 0.5, show box around face\n",
    "        if (confidence > 0.5):\n",
    "            face = frame[startY:endY, startX:endX]\n",
    "            faces.append(face)\n",
    "            positions.append((startX,startY,endX,endY))\n",
    "    return faces,positions\n",
    "\n",
    "#function to detect mask\n",
    "def detect_mask(faces):\n",
    "    predictions = []\n",
    "    image_transforms = transforms.Compose([transforms.Resize(size=(64,64)),\n",
    "                                           #transforms.Grayscale(1),\n",
    "                                           #transforms.RandomRotation(degrees=15),\n",
    "                                           #transforms.ColorJitter(),\n",
    "                                           #transforms.RandomHorizontalFlip(),\n",
    "                                           transforms.ToTensor(),\n",
    "                                           transforms.Normalize([0.485, 0.456, 0.406],\n",
    "                                                              [0.229, 0.224, 0.225])\n",
    "                                          ])\n",
    "    if (len(faces)>0):\n",
    "        for img in faces:\n",
    "            img = Image.fromarray(img)\n",
    "            img = image_transforms(img)\n",
    "            img = img.unsqueeze(0)\n",
    "            prediction = maskDetectModel(img)[0]\n",
    "            #prediction = prediction.argmax()\n",
    "            predictions.append(prediction)#.data)\n",
    "    return predictions\n",
    "#video streaming\n",
    "cap = cv2.VideoCapture(0)\n",
    "cap.set(3, 700)\n",
    "cap.set(4, 520)\n",
    "while(True):\n",
    "    # Capture frame-by-frame\n",
    "    ret, frame = cap.read()\n",
    "    if ret:\n",
    "        #print(frame.shape)\n",
    "        #frame=cv2.GaussianBlur(frame, (5, 5), cv2.BORDER_DEFAULT)\n",
    "        #frame=cv2.cvtColor(frame,cv2.COLOR_BGR2RGB)\n",
    "        # Our operations on the frame come here\n",
    "        (faces,postions) = detect_face(frame)\n",
    "        predictions=detect_mask(faces)\n",
    "        if len(faces)>0:\n",
    "            for(box,prediction) in zip(postions,predictions):\n",
    "                #print(prediction)\n",
    "                (startX, startY, endX, endY) = box\n",
    "                ###################################################\n",
    "                mask_p=float(format(float(prediction[0]),'.3f'))\n",
    "                mask='Mask: '+str(mask_p)\n",
    "                ##################################################\n",
    "                no_mask_p=float(format(float(prediction[1]),'.3f'))\n",
    "                no_mask=' No Mask: '+str(no_mask_p)\n",
    "                ########################################################\n",
    "                label=mask+no_mask\n",
    "                #print(mask_p,no_mask_p)\n",
    "                ############################################################\n",
    "                color = (0, 255, 0) if mask_p>=0.70 else (255,0,0)\n",
    "                #label = \"Mask\" if prediction == 0 else \"No Mask\"\n",
    "                #color = (0, 255, 0) if label == \"Mask\" else (255,0,0)\n",
    "                cv2.putText(frame, label, (startX, startY - 10), cv2.FONT_HERSHEY_SIMPLEX, 0.55, color, 2)\n",
    "                cv2.rectangle(frame,(startX, startY),(endX, endY),color,2)\n",
    "        # Display the resulting frame\n",
    "        #frame=cv2.cvtColor(frame,cv2.COLOR_RGB2BGR)\n",
    "        cv2.imshow('frame',frame)\n",
    "        #out.write(frame)\n",
    "        if cv2.waitKey(1) & 0xFF == ord('q'):\n",
    "            break\n",
    "    else:\n",
    "        break\n",
    "\n",
    "# When everything done, release the capture\n",
    "cap.release()\n",
    "#out.release()\n",
    "cv2.destroyAllWindows()"
   ]
  },
  {
   "cell_type": "code",
   "execution_count": null,
   "id": "bddf8abe",
   "metadata": {},
   "outputs": [],
   "source": []
  },
  {
   "cell_type": "code",
   "execution_count": null,
   "id": "2c757bbf",
   "metadata": {},
   "outputs": [],
   "source": []
  }
 ],
 "metadata": {
  "kernelspec": {
   "display_name": "Python 3 (ipykernel)",
   "language": "python",
   "name": "python3"
  },
  "language_info": {
   "codemirror_mode": {
    "name": "ipython",
    "version": 3
   },
   "file_extension": ".py",
   "mimetype": "text/x-python",
   "name": "python",
   "nbconvert_exporter": "python",
   "pygments_lexer": "ipython3",
   "version": "3.8.5"
  }
 },
 "nbformat": 4,
 "nbformat_minor": 5
}
